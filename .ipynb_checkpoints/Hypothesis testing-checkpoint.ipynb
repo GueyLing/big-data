{
 "cells": [
  {
   "cell_type": "code",
   "execution_count": null,
   "metadata": {
    "id": "8M3bka87LMuf"
   },
   "outputs": [],
   "source": [
    "import pandas as pd\n",
    "import numpy as np\n",
    "import matplotlib.pyplot as plt"
   ]
  },
  {
   "cell_type": "code",
   "execution_count": null,
   "metadata": {
    "colab": {
     "base_uri": "https://localhost:8080/",
     "height": 423
    },
    "id": "suyRrnxbLeiC",
    "outputId": "5284cc25-6119-4131-c840-49971b77cbbf"
   },
   "outputs": [],
   "source": [
    "data = pd.read_csv(\"Reviews.csv\")\n",
    "data.head()"
   ]
  },
  {
   "cell_type": "code",
   "execution_count": null,
   "metadata": {
    "id": "qOERp3sPQ6V0"
   },
   "outputs": [],
   "source": [
    "# Drop irrelevant features\n",
    "data = data.drop(['Id','ProductId', 'UserId', 'ProfileName', 'HelpfulnessNumerator', 'HelpfulnessDenominator', 'Time', 'Summary'], axis=1)"
   ]
  },
  {
   "cell_type": "code",
   "execution_count": null,
   "metadata": {},
   "outputs": [],
   "source": [
    "data = data.sample(n=100, random_state=100)"
   ]
  },
  {
   "cell_type": "code",
   "execution_count": null,
   "metadata": {},
   "outputs": [],
   "source": [
    "data.head()"
   ]
  },
  {
   "cell_type": "code",
   "execution_count": null,
   "metadata": {},
   "outputs": [],
   "source": [
    "data = data.sample(n=100, random_state=100)"
   ]
  },
  {
   "cell_type": "code",
   "execution_count": null,
   "metadata": {},
   "outputs": [],
   "source": [
    "data['Text']"
   ]
  },
  {
   "cell_type": "code",
   "execution_count": null,
   "metadata": {
    "colab": {
     "base_uri": "https://localhost:8080/",
     "height": 52
    },
    "id": "LBq-uYHiTF80",
    "outputId": "76034edd-db94-450a-b00d-1b102e72d069"
   },
   "outputs": [],
   "source": [
    "# Convert all uppercase to lowercase\n",
    "data['Text'] = data['Text'].str.lower()"
   ]
  },
  {
   "cell_type": "code",
   "execution_count": null,
   "metadata": {
    "colab": {
     "base_uri": "https://localhost:8080/",
     "height": 52
    },
    "id": "QMAbGsvLTMdc",
    "outputId": "c849af6d-0452-438d-e331-1c22437f4487"
   },
   "outputs": [],
   "source": [
    "# Remove all characters except alphabet\n",
    "import re\n",
    "def remove_punctuations_numbers(inputs):\n",
    "    return re.sub(r'[^a-z]', ' ', inputs)\n",
    "\n",
    "data['Text'] = data['Text'].apply(remove_punctuations_numbers)"
   ]
  },
  {
   "cell_type": "code",
   "execution_count": null,
   "metadata": {
    "colab": {
     "base_uri": "https://localhost:8080/"
    },
    "id": "-sZGWqGzI8Vk",
    "outputId": "a2483128-ee75-4d5c-a5eb-66e9abd4a01b"
   },
   "outputs": [],
   "source": [
    "import nltk\n",
    "nltk.download('punkt')\n",
    "nltk.download('stopwords')\n",
    "nltk.download('wordnet')"
   ]
  },
  {
   "cell_type": "code",
   "execution_count": null,
   "metadata": {
    "colab": {
     "base_uri": "https://localhost:8080/"
    },
    "id": "9fnQF02qT2w9",
    "outputId": "6c1ec2db-5391-4e99-985c-c6e88f37b24e"
   },
   "outputs": [],
   "source": [
    "from nltk.tokenize import word_tokenize\n",
    "from nltk.corpus import stopwords\n",
    "from nltk.stem import WordNetLemmatizer\n",
    "\n",
    "# Tokenize the text\n",
    "def tokenization(inputs):  \n",
    "    return word_tokenize(inputs)\n",
    "\n",
    "data['text_tokenized'] = data['Text'].apply(tokenization)"
   ]
  },
  {
   "cell_type": "code",
   "execution_count": null,
   "metadata": {
    "colab": {
     "base_uri": "https://localhost:8080/"
    },
    "id": "UKDP_yoAVRKv",
    "outputId": "d09da7ca-7b4c-474c-c09a-e9256d54386a"
   },
   "outputs": [],
   "source": [
    "# Remove stop words\n",
    "stop_words = set(stopwords.words('english'))\n",
    "stop_words.remove('not')\n",
    "\n",
    "def stopwords_remove(inputs): \n",
    "    return [k for k in inputs if k not in stop_words]\n",
    "\n",
    "data['text_stop'] = data['text_tokenized'].apply(stopwords_remove)"
   ]
  },
  {
   "cell_type": "code",
   "execution_count": null,
   "metadata": {
    "colab": {
     "base_uri": "https://localhost:8080/"
    },
    "id": "9unzf-GVWG05",
    "outputId": "e3aff640-b43a-40f0-9ea0-7a0c6fcd76d3"
   },
   "outputs": [],
   "source": [
    "# Perform lemmatization\n",
    "lemmatizer = WordNetLemmatizer()\n",
    "\n",
    "def lemmatization(inputs):  \n",
    "    return [lemmatizer.lemmatize(word=kk, pos='v') for kk in inputs]\n",
    "\n",
    "data['text_lemmatized'] = data['text_stop'].apply(lemmatization)"
   ]
  },
  {
   "cell_type": "code",
   "execution_count": null,
   "metadata": {
    "id": "S_NUsjYbXNT4"
   },
   "outputs": [],
   "source": [
    "# Removing words with length less than or equal to 2\n",
    "def remove_less_than_2(inputs):  \n",
    "    return [j for j in inputs if len(j) > 2]\n",
    "\n",
    "data['final'] = data['text_lemmatized'].apply(remove_less_than_2)"
   ]
  },
  {
   "cell_type": "code",
   "execution_count": null,
   "metadata": {
    "colab": {
     "base_uri": "https://localhost:8080/",
     "height": 35
    },
    "id": "-y2qoswXYkvJ",
    "outputId": "7383c8ec-be3f-491b-e4c3-4734d900ecdc"
   },
   "outputs": [],
   "source": [
    "# Join the tokens into sentences\n",
    "data['final'] = data['final'].str.join(' ')"
   ]
  },
  {
   "cell_type": "code",
   "execution_count": null,
   "metadata": {},
   "outputs": [],
   "source": [
    "from sklearn.feature_extraction.text import CountVectorizer\n",
    "import scipy.stats as stats\n",
    "\n",
    "vectorizer = CountVectorizer()\n",
    "text_features = vectorizer.fit_transform(data['final'])\n",
    "text_features = text_features.toarray()"
   ]
  },
  {
   "cell_type": "code",
   "execution_count": null,
   "metadata": {},
   "outputs": [],
   "source": [
    "# X is the input features, y is the target variable\n",
    "y = data['Score']\n",
    "X = data['final']"
   ]
  },
  {
   "cell_type": "code",
   "execution_count": null,
   "metadata": {},
   "outputs": [],
   "source": [
    "from sklearn.model_selection import train_test_split\n",
    "\n",
    "# Split dataset into training and testing\n",
    "X_train, X_test, y_train, y_test = train_test_split(X, y, test_size=0.2, random_state=42) "
   ]
  },
  {
   "cell_type": "code",
   "execution_count": null,
   "metadata": {},
   "outputs": [],
   "source": [
    "classifier = LogisticRegression(C=0.1)\n",
    "classifier.fit(X, sentiments)\n",
    "y_pred = classifier.predict(X_test)"
   ]
  }
 ],
 "metadata": {
  "accelerator": "GPU",
  "colab": {
   "gpuType": "T4",
   "provenance": []
  },
  "gpuClass": "standard",
  "kernelspec": {
   "display_name": "Python 3 (ipykernel)",
   "language": "python",
   "name": "python3"
  },
  "language_info": {
   "codemirror_mode": {
    "name": "ipython",
    "version": 3
   },
   "file_extension": ".py",
   "mimetype": "text/x-python",
   "name": "python",
   "nbconvert_exporter": "python",
   "pygments_lexer": "ipython3",
   "version": "3.10.9"
  }
 },
 "nbformat": 4,
 "nbformat_minor": 1
}
